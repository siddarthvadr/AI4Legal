{
 "cells": [
  {
   "cell_type": "code",
   "execution_count": 11,
   "metadata": {},
   "outputs": [
    {
     "name": "stdout",
     "output_type": "stream",
     "text": [
      "4,1,1\n"
     ]
    }
   ],
   "source": [
    "import math\n",
    "\n",
    "output = \"\"\n",
    "\n",
    "def solution(area):    \n",
    "    global output\n",
    "\n",
    "    if area > 1000000 or area < 0:\n",
    "        print(\"the area must be between 0 and 1000000\")\n",
    "        return\n",
    "        \n",
    "    if area == 0:\n",
    "        print(output[0:-1])\n",
    "        return\n",
    "    \n",
    "    largest_sqr_size = int(math.sqrt(area))\n",
    "    area_covered = int(math.pow(largest_sqr_size , 2))\n",
    "    area_remaining = area - area_covered\n",
    "    output = output + str(area_covered) + \",\"\n",
    "    solution(area_remaining)\n",
    "\n",
    "solution(6)"
   ]
  },
  {
   "cell_type": "code",
   "execution_count": null,
   "metadata": {},
   "outputs": [],
   "source": []
  }
 ],
 "metadata": {
  "kernelspec": {
   "display_name": "Python 3",
   "language": "python",
   "name": "python3"
  },
  "language_info": {
   "codemirror_mode": {
    "name": "ipython",
    "version": 3
   },
   "file_extension": ".py",
   "mimetype": "text/x-python",
   "name": "python",
   "nbconvert_exporter": "python",
   "pygments_lexer": "ipython3",
   "version": "3.7.3"
  }
 },
 "nbformat": 4,
 "nbformat_minor": 2
}
