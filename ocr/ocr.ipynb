{
 "cells": [
  {
   "cell_type": "code",
   "execution_count": 1,
   "metadata": {},
   "outputs": [],
   "source": [
    "# Use only in Linux based systems. Install pytorch with CUDA=None/CPU if using without GPU in Windows\n",
    "# %pip install easyocr"
   ]
  },
  {
   "cell_type": "code",
   "execution_count": 1,
   "metadata": {},
   "outputs": [],
   "source": [
    "import easyocr\n",
    "import cv2\n",
    "import matplotlib.pyplot as plt\n",
    "from fpdf import FPDF\n",
    "import os"
   ]
  },
  {
   "cell_type": "code",
   "execution_count": 51,
   "metadata": {},
   "outputs": [
    {
     "name": "stderr",
     "output_type": "stream",
     "text": [
      "CUDA not available - defaulting to CPU. Note: This module is much faster with a GPU.\n"
     ]
    }
   ],
   "source": [
    "reader = easyocr.Reader(['en'])"
   ]
  },
  {
   "cell_type": "code",
   "execution_count": 49,
   "metadata": {},
   "outputs": [],
   "source": [
    "image_dir = './images/'\n",
    "# Creating text_files directory - \n",
    "path_to_text_files = './text_files/'\n",
    "if not os.path.exists(path_to_text_files):\n",
    "    os.mkdir(path_to_text_files)"
   ]
  },
  {
   "cell_type": "code",
   "execution_count": 50,
   "metadata": {},
   "outputs": [
    {
     "name": "stdout",
     "output_type": "stream",
     "text": [
      "Scanning Image Directory\n",
      "Working in <DirEntry 'manipur.pdf'>\n",
      "Processing ./images/manipur.pdf/1.jpeg\n",
      "Processing ./images/manipur.pdf/2.jpeg\n",
      "Saving\n",
      "Working in <DirEntry 'tripura_fir.pdf'>\n",
      "Processing ./images/tripura_fir.pdf/1.jpeg\n",
      "Processing ./images/tripura_fir.pdf/2.jpeg\n",
      "Processing ./images/tripura_fir.pdf/3.jpeg\n",
      "Saving\n",
      "Done\n"
     ]
    }
   ],
   "source": [
    "result = ''\n",
    "print('Scanning Image Directory')\n",
    "for dir in os.scandir(image_dir):\n",
    "    print(f'Working in {dir}')\n",
    "    \n",
    "    text_filename = dir.path.split('/')[-1].split('.')[0] + '.txt'\n",
    "    text_file_path = path_to_text_files + text_filename\n",
    "    \n",
    "    for image in os.scandir(dir):\n",
    "        print(f'Processing {image.path}')\n",
    "        text = reader.readtext(image.path, detail=0, paragraph=True)\n",
    "        result = result + ''.join(text) + '\\n'\n",
    "    print('Saving')\n",
    "    with open(text_file_path, 'w') as text_file:\n",
    "        text_file.write(result)\n",
    "print('Done')"
   ]
  },
  {
   "cell_type": "code",
   "execution_count": null,
   "metadata": {},
   "outputs": [],
   "source": []
  }
 ],
 "metadata": {
  "kernelspec": {
   "display_name": "main_env_3.10",
   "language": "python",
   "name": "python3"
  },
  "language_info": {
   "codemirror_mode": {
    "name": "ipython",
    "version": 3
   },
   "file_extension": ".py",
   "mimetype": "text/x-python",
   "name": "python",
   "nbconvert_exporter": "python",
   "pygments_lexer": "ipython3",
   "version": "3.10.10"
  },
  "orig_nbformat": 4,
  "vscode": {
   "interpreter": {
    "hash": "c6ccaf09f86f43e150893b05a032b80e4fa0634d7decfff729e1ab3a5932781c"
   }
  }
 },
 "nbformat": 4,
 "nbformat_minor": 2
}
