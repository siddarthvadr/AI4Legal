{
 "cells": [
  {
   "cell_type": "code",
   "execution_count": 1,
   "metadata": {},
   "outputs": [
    {
     "name": "stdout",
     "output_type": "stream",
     "text": [
      "Collecting PyMuPDF\n",
      "  Downloading PyMuPDF-1.22.1-cp310-cp310-manylinux_2_17_x86_64.manylinux2014_x86_64.whl (14.1 MB)\n",
      "\u001b[2K     \u001b[90m━━━━━━━━━━━━━━━━━━━━━━━━━━━━━━━━━━━━━━━━\u001b[0m \u001b[32m14.1/14.1 MB\u001b[0m \u001b[31m3.5 MB/s\u001b[0m eta \u001b[36m0:00:00\u001b[0m00:01\u001b[0m00:01\u001b[0m\n",
      "\u001b[?25hInstalling collected packages: PyMuPDF\n",
      "Successfully installed PyMuPDF-1.22.1\n",
      "Note: you may need to restart the kernel to use updated packages.\n",
      "Requirement already satisfied: Pillow in /home/sid/Work/virtualenv/report_classification/lib/python3.10/site-packages (9.5.0)\n",
      "Note: you may need to restart the kernel to use updated packages.\n"
     ]
    }
   ],
   "source": [
    "#Import required dependencies\n",
    "%pip install PyMuPDF\n",
    "%pip install Pillow\n",
    "import fitz\n",
    "import os\n",
    "from PIL import Image"
   ]
  },
  {
   "cell_type": "code",
   "execution_count": 2,
   "metadata": {},
   "outputs": [],
   "source": [
    "path_to_pdf_data = './pdf_files/text/'\n",
    "path_to_images = './images/'\n",
    "# Creating images directory - \n",
    "if not os.path.exists(path_to_images):\n",
    "    os.mkdir(path_to_images)"
   ]
  },
  {
   "cell_type": "code",
   "execution_count": 3,
   "metadata": {},
   "outputs": [
    {
     "name": "stdout",
     "output_type": "stream",
     "text": [
      "['./pdf_files/text/tripura_fir.pdf', './pdf_files/text/manipur.pdf']\n"
     ]
    }
   ],
   "source": [
    "# Saving paths of all pdf's in a list - \n",
    "pdf_paths = []\n",
    "for entry in os.scandir(path_to_pdf_data):\n",
    "    if entry.is_file():\n",
    "        pdf_paths.append(entry.path)\n",
    "print(pdf_paths)"
   ]
  },
  {
   "cell_type": "code",
   "execution_count": 4,
   "metadata": {},
   "outputs": [
    {
     "name": "stdout",
     "output_type": "stream",
     "text": [
      "Currently Working On - tripura_fir.pdf\n",
      "Number of pages in tripura_fir.pdf = 3\n",
      "Image data in tripura_fir.pdf = [(5, 0, 1296, 1688, 8, 'DeviceRGB', '', 'Im0', 'DCTDecode'), (10, 0, 1232, 1904, 8, 'DeviceRGB', '', 'Im0', 'DCTDecode'), (13, 0, 1240, 1968, 8, 'DeviceRGB', '', 'Im0', 'DCTDecode')]\n",
      "Creating sub-directory ./images/tripura_fir.pdf\n",
      "Saving 1.jpeg\n",
      "Saving 2.jpeg\n",
      "Saving 3.jpeg\n",
      "Currently Working On - manipur.pdf\n",
      "Number of pages in manipur.pdf = 2\n",
      "Image data in manipur.pdf = [(2, 0, 750, 1000, 8, 'ICCBased', '', 'img0', 'DCTDecode'), (7, 0, 750, 1000, 8, 'ICCBased', '', 'img1', 'DCTDecode')]\n",
      "Creating sub-directory ./images/manipur.pdf\n",
      "Saving 1.jpeg\n",
      "Saving 2.jpeg\n",
      "Done\n"
     ]
    }
   ],
   "source": [
    "for pdf_path in pdf_paths:\n",
    "    file_name = pdf_path.split('/')[-1]\n",
    "    print(f'Currently Working On - {file_name}')\n",
    "    \n",
    "    pdf_file = fitz.open(pdf_path)\n",
    "    page_nums = len(pdf_file)\n",
    "    print(f'Number of pages in {file_name} = {page_nums}')\n",
    "    \n",
    "    images_list = []\n",
    "    \n",
    "    for page_num in range(page_nums):\n",
    "        page_content = pdf_file[page_num]\n",
    "        images_list.extend(page_content.get_images())\n",
    "    print(f'Image data in {file_name} = {images_list}')\n",
    "    \n",
    "    if len(images_list) == 0:\n",
    "        print(f'No images found in {pdf_path}. Continuing to next file.')\n",
    "        continue\n",
    "    else:\n",
    "        image_sub_directory = path_to_images + file_name\n",
    "        print(f'Creating sub-directory {image_sub_directory}')\n",
    "        if not os.path.exists(image_sub_directory):\n",
    "            os.makedirs(image_sub_directory)\n",
    "        count = 1\n",
    "        #Save all the extracted images\n",
    "        for image in (images_list):\n",
    "            #Extract the image object number\n",
    "            xref = image[0]\n",
    "            #Extract image\n",
    "            base_image = pdf_file.extract_image(xref)\n",
    "            #Store image bytes\n",
    "            image_bytes = base_image['image']\n",
    "            #Store image extension\n",
    "            image_ext = base_image['ext']\n",
    "            #Generate image file name\n",
    "            image_name = str(count) + '.' + image_ext\n",
    "            #Save image\n",
    "            print(f'Saving {image_name}')\n",
    "            with open(os.path.join(image_sub_directory, image_name) , 'wb') as image_file:\n",
    "                image_file.write(image_bytes)\n",
    "                image_file.close()\n",
    "            count += 1\n",
    "    \n",
    "print('Done')"
   ]
  }
 ],
 "metadata": {
  "kernelspec": {
   "display_name": "main_env_3.10",
   "language": "python",
   "name": "python3"
  },
  "language_info": {
   "codemirror_mode": {
    "name": "ipython",
    "version": 3
   },
   "file_extension": ".py",
   "mimetype": "text/x-python",
   "name": "python",
   "nbconvert_exporter": "python",
   "pygments_lexer": "ipython3",
   "version": "3.10.6"
  },
  "orig_nbformat": 4,
  "vscode": {
   "interpreter": {
    "hash": "c6ccaf09f86f43e150893b05a032b80e4fa0634d7decfff729e1ab3a5932781c"
   }
  }
 },
 "nbformat": 4,
 "nbformat_minor": 2
}
